{
 "cells": [
  {
   "cell_type": "markdown",
   "metadata": {},
   "source": [
    "# PyObject:  Object-oriented programming HW 11"
   ]
  },
  {
   "cell_type": "markdown",
   "metadata": {},
   "source": [
    "## Exercise 1  (from Monday's class)"
   ]
  },
  {
   "cell_type": "markdown",
   "metadata": {},
   "source": [
    "1. Write a ``Particle`` class that can be used to represent a particle with a mass, a 3-d position, and a 3-d velocity.\n",
    "\n",
    "2. Write a method that can be used to compute the kinetic energy of the particle\n",
    "\n",
    "3. Write a method that takes another particle as an argument and finds the distance between the two particles\n",
    "\n",
    "4. Write a method that given a time interval ``dt`` will update the position of the particle to the new position based on the current position and velocity.\n",
    "\n",
    "5. Write a ``ChargedParticle`` class that inherits from the ``Particle`` class, but also has an attribute for the charge of the particle.\n"
   ]
  },
  {
   "cell_type": "code",
   "execution_count": null,
   "metadata": {},
   "outputs": [],
   "source": [
    "import numpy as np\n",
    "# your solution here\n",
    "\n",
    "class ChargedParticle(Particle):\n",
    "\n",
    "    def __init__(self, mass, x, y, z, vx, vy, vz, charge):\n",
    "        self.mass = mass\n",
    "        self.x = x\n",
    "        self.y = y\n",
    "        self.z = z\n",
    "        self.vx = vx\n",
    "        self.vy = vy\n",
    "        self.vz = vz\n",
    "        self.charge = charge\n"
   ]
  },
  {
   "cell_type": "code",
   "execution_count": 4,
   "metadata": {},
   "outputs": [],
   "source": [
    "import numpy as np\n",
    "\n",
    "class Particle(object):\n",
    "    \n",
    "    def __init__(self, x, y, z, vx, vy, vz, mass):\n",
    "        self.x = x\n",
    "        self.y = y\n",
    "        self.z = z\n",
    "        self.vx = vx\n",
    "        self.vy = vy\n",
    "        self.vz = vz\n",
    "        self.mass = mass\n",
    "\n",
    "    def kinetic_energy(self):\n",
    "        v = np.sqrt(((self.vx)**2)+((self.vy)**2)+((self.vz)**2))\n",
    "        k_e = 0.5*self.mass*(v**2)\n",
    "        return k_e\n",
    "\n",
    "    def distance(self, other):\n",
    "        d = np.sqrt(((abs(self.x-other.x))**2)+((abs(self.y-other.y))**2)+((abs(self.z-other.z))**2))\n",
    "        return d\n",
    "\n",
    "    def updated_position(self, dt):\n",
    "        self.x = self.x + self.vx*dt\n",
    "        self.y = self.y + self.vy*dt\n",
    "        self.z = self.z + self.vz*dt\n",
    "\n",
    "\n"
   ]
  },
  {
   "cell_type": "markdown",
   "metadata": {},
   "source": [
    "## Exercise 2  (New)"
   ]
  },
  {
   "cell_type": "markdown",
   "metadata": {},
   "source": [
    "6. Write a method that can be used to see if a particle is in the same place (e.g., find_separation < 0.25).  If there are two ChargedParticles in the same place make a \"simple\" (*not correct physics*) \"interaction\". (__have the code print \"interaction\"__).   \n",
    "\n",
    "    a. If the charges are opposite, make them \"combine\", set both velocities to zero and set their charge to zero, and print \"merge\".\n",
    "\n",
    "    b. Else, make the particles \"repel\", to do:\n",
    "    \n",
    "        multiply each \"self\" velocity and  by (-1 * (self.charge+other.charge) * (self.mass/other.mass))  \n",
    "    \n",
    "        multiply each \"other\" velocity by (-1 * (self.charge+other.charge) * (other.mass/self.mass)) \n",
    "    \n",
    "    e.g., reversing it's velocity, and print \"repel\". __(Again this is bad physics, but we are focusing on coding so play along.)__\n",
    "\n",
    "\n",
    "7. To test the above, write a code with two particles starting:\n",
    "\n",
    "        P1 at (x,y,z) = (-5,-5,-5) with (vx,vy,vz) = (1,1,1) and (charge = 0.5) \n",
    "\n",
    "        P2 at (x,y,z) = (5,5,5) with (vx,vy,vz) = (-1,-1,-1) and (charge = -0.5).  \n",
    "\n",
    "    Use your dt time interval to move the particles in 0.05 time steps for 300 steps, and print the current poition and velocity of each particle at each time step.  \n",
    "    \n",
    "\n",
    "8. To test the above, write a code with two particles starting: \n",
    "\n",
    "        P1 at (x,y,z) = (-5,-5,-5) with (vx,vy,vz) = (2,2,2) and (charge = 0.5) \n",
    "\n",
    "        P2 at (x,y,z) = (5,5,5) with (vx,vy,vz) = (-1,-1,-1) and (charge = 2.0).  \n",
    "\n",
    "    Use your dt time interval to move the particles in 0.05 time steps for 300 steps, and print the current poition and velocity of each particle at each time step.  \n"
   ]
  },
  {
   "cell_type": "code",
   "execution_count": 113,
   "metadata": {},
   "outputs": [],
   "source": [
    "# write new code here\n",
    "class ChargedParticle(Particle):\n",
    "    def __init__(self, x,y,z,vx,vy,vz,mass,charge):\n",
    "        self.x = x\n",
    "        self.y = y\n",
    "        self.z = z\n",
    "        self.vx = vx\n",
    "        self.vy = vy\n",
    "        self.vz = vz\n",
    "        self.mass = mass\n",
    "        self.charge = charge\n",
    "        \n",
    "    def separation(self, other):\n",
    "        d = np.sqrt(((abs(self.x-other.x))**2)+((abs(self.y-other.y))**2)+((abs(self.z-other.z))**2))\n",
    "        if d < 0.25:\n",
    "            if (self.charge > 0 and other.charge < 0) or (self.charge < 0 and other.charge > 0):\n",
    "                self.charge = 0\n",
    "                other.charge = 0\n",
    "                self.vx = 0\n",
    "                self.vy = 0\n",
    "                self.vz = 0\n",
    "                other.vx = 0\n",
    "                other.vy = 0\n",
    "                other.vz = 0\n",
    "                print(\"merge\")\n",
    "            elif (self.charge > 0 and other.charge > 0) or (self.charge < 0 and other.charge < 0):\n",
    "                self.vx = (-1)*(self.charge+other.charge)*(self.mass/other.mass)\n",
    "                self.vy = (-1)*(self.charge+other.charge)*(self.mass/other.mass)\n",
    "                self.vz = (-1)*(self.charge+other.charge)*(self.mass/other.mass)\n",
    "                other.vx = (-1)*(self.charge+other.charge)*(other.mass/self.mass)\n",
    "                other.vy = (-1)*(self.charge+other.charge)*(other.mass/self.mass)\n",
    "                other.vz = (-1)*(self.charge+other.charge)*(other.mass/self.mass)\n",
    "                print(\"repel\")\n",
    "\n",
    "    def updated_position(self, dt):\n",
    "        self.x = self.x + self.vx*dt\n",
    "        self.y = self.y + self.vy*dt\n",
    "        self.z = self.z + self.vz*dt\n"
   ]
  },
  {
   "cell_type": "code",
   "execution_count": 121,
   "metadata": {},
   "outputs": [],
   "source": [
    "p1 = ChargedParticle(-5,-5,-5,1,1,1,10,0.5)\n",
    "p2 = ChargedParticle(5,5,5,-1,-1,-1,10,-0.5)\n",
    "p3 = ChargedParticle(-5,-5,-5,2,2,2,10,0.5)\n",
    "p4 = ChargedParticle(5,5,5,-1,-1,-1,10,2)"
   ]
  },
  {
   "cell_type": "code",
   "execution_count": 125,
   "metadata": {},
   "outputs": [
    {
     "ename": "NameError",
     "evalue": "name 'self' is not defined",
     "output_type": "error",
     "traceback": [
      "\u001b[0;31m---------------------------------------------------------------------------\u001b[0m",
      "\u001b[0;31mNameError\u001b[0m                                 Traceback (most recent call last)",
      "Cell \u001b[0;32mIn[125], line 8\u001b[0m\n\u001b[1;32m      6\u001b[0m p4\u001b[38;5;241m.\u001b[39mupdated_position(dt)\n\u001b[1;32m      7\u001b[0m p3\u001b[38;5;241m.\u001b[39mseparation(p4)\n\u001b[0;32m----> 8\u001b[0m d \u001b[38;5;241m=\u001b[39m np\u001b[38;5;241m.\u001b[39msqrt(((\u001b[38;5;28mabs\u001b[39m(\u001b[38;5;28mself\u001b[39m\u001b[38;5;241m.\u001b[39mx\u001b[38;5;241m-\u001b[39mother\u001b[38;5;241m.\u001b[39mx))\u001b[38;5;241m*\u001b[39m\u001b[38;5;241m*\u001b[39m\u001b[38;5;241m2\u001b[39m)\u001b[38;5;241m+\u001b[39m((\u001b[38;5;28mabs\u001b[39m(\u001b[38;5;28mself\u001b[39m\u001b[38;5;241m.\u001b[39my\u001b[38;5;241m-\u001b[39mother\u001b[38;5;241m.\u001b[39my))\u001b[38;5;241m*\u001b[39m\u001b[38;5;241m*\u001b[39m\u001b[38;5;241m2\u001b[39m)\u001b[38;5;241m+\u001b[39m((\u001b[38;5;28mabs\u001b[39m(\u001b[38;5;28mself\u001b[39m\u001b[38;5;241m.\u001b[39mz\u001b[38;5;241m-\u001b[39mother\u001b[38;5;241m.\u001b[39mz))\u001b[38;5;241m*\u001b[39m\u001b[38;5;241m*\u001b[39m\u001b[38;5;241m2\u001b[39m))\n\u001b[1;32m      9\u001b[0m v_p1 \u001b[38;5;241m=\u001b[39m np\u001b[38;5;241m.\u001b[39msqrt(((\u001b[38;5;28mself\u001b[39m\u001b[38;5;241m.\u001b[39mvx)\u001b[38;5;241m*\u001b[39m\u001b[38;5;241m*\u001b[39m\u001b[38;5;241m2\u001b[39m)\u001b[38;5;241m+\u001b[39m((\u001b[38;5;28mself\u001b[39m\u001b[38;5;241m.\u001b[39mvy)\u001b[38;5;241m*\u001b[39m\u001b[38;5;241m*\u001b[39m\u001b[38;5;241m2\u001b[39m)\u001b[38;5;241m+\u001b[39m((\u001b[38;5;28mself\u001b[39m\u001b[38;5;241m.\u001b[39mvz)\u001b[38;5;241m*\u001b[39m\u001b[38;5;241m*\u001b[39m\u001b[38;5;241m2\u001b[39m))\n\u001b[1;32m     10\u001b[0m v_p2 \u001b[38;5;241m=\u001b[39m np\u001b[38;5;241m.\u001b[39msqrt(((other\u001b[38;5;241m.\u001b[39mvx)\u001b[38;5;241m*\u001b[39m\u001b[38;5;241m*\u001b[39m\u001b[38;5;241m2\u001b[39m)\u001b[38;5;241m+\u001b[39m((other\u001b[38;5;241m.\u001b[39mvy)\u001b[38;5;241m*\u001b[39m\u001b[38;5;241m*\u001b[39m\u001b[38;5;241m2\u001b[39m)\u001b[38;5;241m+\u001b[39m((other\u001b[38;5;241m.\u001b[39mvz)\u001b[38;5;241m*\u001b[39m\u001b[38;5;241m*\u001b[39m\u001b[38;5;241m2\u001b[39m))\n",
      "\u001b[0;31mNameError\u001b[0m: name 'self' is not defined"
     ]
    }
   ],
   "source": [
    "for dt in range(0,15,300):\n",
    "    p1.updated_position(dt)\n",
    "    p2.updated_position(dt)\n",
    "    p1.separation(p2)\n",
    "    p3.updated_position(dt)\n",
    "    p4.updated_position(dt)\n",
    "    p3.separation(p4)\n",
    "    d = np.sqrt(((abs(self.x-other.x))**2)+((abs(self.y-other.y))**2)+((abs(self.z-other.z))**2))\n",
    "    v_p1 = np.sqrt(((self.vx)**2)+((self.vy)**2)+((self.vz)**2))\n",
    "    v_p2 = np.sqrt(((other.vx)**2)+((other.vy)**2)+((other.vz)**2))\n",
    "    print(d,v_p1,v_p2)"
   ]
  },
  {
   "cell_type": "code",
   "execution_count": 123,
   "metadata": {},
   "outputs": [
    {
     "ename": "AttributeError",
     "evalue": "'ChargedParticle' object has no attribute 'move'",
     "output_type": "error",
     "traceback": [
      "\u001b[0;31m---------------------------------------------------------------------------\u001b[0m",
      "\u001b[0;31mAttributeError\u001b[0m                            Traceback (most recent call last)",
      "Cell \u001b[0;32mIn[123], line 2\u001b[0m\n\u001b[1;32m      1\u001b[0m \u001b[38;5;28;01mfor\u001b[39;00m dt \u001b[38;5;129;01min\u001b[39;00m \u001b[38;5;28mrange\u001b[39m(\u001b[38;5;241m0\u001b[39m,\u001b[38;5;241m15\u001b[39m,\u001b[38;5;241m300\u001b[39m):\n\u001b[0;32m----> 2\u001b[0m     p1\u001b[38;5;241m.\u001b[39mmove(dt)\n\u001b[1;32m      3\u001b[0m     p2\u001b[38;5;241m.\u001b[39mmove(dt)\n\u001b[1;32m      4\u001b[0m     p1\u001b[38;5;241m.\u001b[39minteract(p2)\n",
      "\u001b[0;31mAttributeError\u001b[0m: 'ChargedParticle' object has no attribute 'move'"
     ]
    }
   ],
   "source": [
    "for dt in range(0,15,300):\n",
    "    p1.move(dt)\n",
    "    p2.move(dt)\n",
    "    p1.interact(p2)\n",
    "    p3.move(dt)\n",
    "    p4.move(dt)\n",
    "    p3.interact(p4)\n",
    "    d = np.sqrt(((abs(self.x-other.x))**2)+((abs(self.y-other.y))**2)+((abs(self.z-other.z))**2))\n",
    "    v_p1 = np.sqrt(((self.vx)**2)+((self.vy)**2)+((self.vz)**2))\n",
    "    v_p2 = np.sqrt(((other.vx)**2)+((other.vy)**2)+((other.vz)**2))\n",
    "    print(d,v_p1,v_p2)"
   ]
  },
  {
   "cell_type": "code",
   "execution_count": null,
   "metadata": {},
   "outputs": [],
   "source": []
  }
 ],
 "metadata": {
  "kernelspec": {
   "display_name": "Python 3 (ipykernel)",
   "language": "python",
   "name": "python3"
  },
  "language_info": {
   "codemirror_mode": {
    "name": "ipython",
    "version": 3
   },
   "file_extension": ".py",
   "mimetype": "text/x-python",
   "name": "python",
   "nbconvert_exporter": "python",
   "pygments_lexer": "ipython3",
   "version": "3.12.4"
  }
 },
 "nbformat": 4,
 "nbformat_minor": 4
}
